{
 "cells": [
  {
   "cell_type": "markdown",
   "id": "61357e3d",
   "metadata": {},
   "source": [
    "# Zadanie 1 / Case 1\n",
    "\n",
    "Źródło / Source: [link](https://github.com/mskrotka/projekt/blob/main/zadania.py)\n",
    "\n",
    "### Treść zadania / Task(s) content:\n",
    "\n",
    "**1. Zadanie 1 / Task 1**\n",
    "Napisz funkcję, która przyjmie rok urodzenia, a następnie zwróci informację o tym, czy jest pełnoletni czy nie.\n",
    "UWAGA: Modyfikacja: z uwagi na fakt, iż napisano, że funkcja ma przyjmować rok urodzenia a nie wiek, zmodyfikowano zadanie podając do funkcji jako parametr rok urodzenia\n",
    "\n",
    "\n",
    "**2. Zadanie 2 / Task 2**\n",
    "Napisz funkcję, która zwraca listę wszystkich podzielnych przez n liczb z zakresu [1, 100].\n",
    "\n",
    "\n",
    "**3. Zadanie 3 / Task 3**\n",
    "Napisz funkcję, która przyjmuje kwotę (value) i jej walutę (currency), a następnie zwróci ile wart jest dana kwota w danej walucie w złotówkach.\n",
    "\n",
    "\n",
    "**<font color='green'>Proponowane rozwiązanie / Proposed solution:</font>  Zadania_-_Cases/blob/master/Zadanie_1_(funkcje)_-_Case_1_(functions).py**"
   ]
  },
  {
   "cell_type": "markdown",
   "id": "d56d1067",
   "metadata": {},
   "source": [
    "# Zadanie 2 / Case 2\n",
    "\n",
    "Źródło / Source: [link](https://github.com/mskrotka/projekt/blob/main/zadania.py)\n",
    "\n",
    "### Treść zadania / Task content:\n",
    "\n",
    "Potrzebujemy przeliczyć trochę waluty, czasy niepewne,\n",
    "warto mieć na uwadze swoją ulubioną walutę.\n",
    "Napisz klasę, która będzie zawierać dwie metody:\n",
    "\n",
    "      przeliczenie wybranej waluty z tabeli A na złotówki  <- dane wejściowe: kod waluty, ilość waluty\n",
    "      wskazanie aktualnego kursu z tabeli A <- dane wjećiowe: kod waluty\n",
    "\n",
    "Klasa w celu przeliczenia waluty powinna skorzystać z aktualnych kursów z Narodowego Banku Polskiego\n",
    "dokumentację API dla NBP znajdziesz pod adresem [NBP-API](http://api.nbp.pl/)\n",
    "\n",
    "\n",
    "\n",
    "**<font color='green'>Proponowane rozwiązanie / Proposed solution:</font>  Zadania_-_Cases/blob/master/Zadanie_2_(klasy)_-_Case_2_(classes).py**"
   ]
  }
 ],
 "metadata": {
  "kernelspec": {
   "display_name": "Python 3 (ipykernel)",
   "language": "python",
   "name": "python3"
  },
  "language_info": {
   "codemirror_mode": {
    "name": "ipython",
    "version": 3
   },
   "file_extension": ".py",
   "mimetype": "text/x-python",
   "name": "python",
   "nbconvert_exporter": "python",
   "pygments_lexer": "ipython3",
   "version": "3.9.7"
  }
 },
 "nbformat": 4,
 "nbformat_minor": 5
}
